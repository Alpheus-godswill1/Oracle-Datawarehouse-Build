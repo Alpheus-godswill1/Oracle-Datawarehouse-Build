{
 "cells": [
  {
   "cell_type": "code",
   "execution_count": 2,
   "metadata": {},
   "outputs": [
    {
     "name": "stdout",
     "output_type": "stream",
     "text": [
      "Successfully converted _2000.json to _2000.xlsx\n",
      "Successfully converted _2001.json to _2001.xlsx\n",
      "Successfully converted _2002.json to _2002.xlsx\n",
      "Successfully converted _2003.json to _2003.xlsx\n",
      "Successfully converted _2004.json to _2004.xlsx\n",
      "Successfully converted _2005.json to _2005.xlsx\n",
      "Successfully converted _2006.json to _2006.xlsx\n",
      "Successfully converted _2007.json to _2007.xlsx\n",
      "Successfully converted _2008.json to _2008.xlsx\n",
      "Successfully converted _2009.json to _2009.xlsx\n",
      "Successfully converted _2010.json to _2010.xlsx\n",
      "Successfully converted _2011.json to _2011.xlsx\n",
      "Successfully converted _2012.json to _2012.xlsx\n",
      "Successfully converted _2013.json to _2013.xlsx\n",
      "Successfully converted _2014.json to _2014.xlsx\n",
      "Successfully converted _2015.json to _2015.xlsx\n",
      "Successfully converted _2016.json to _2016.xlsx\n"
     ]
    }
   ],
   "source": [
    "import pandas as pd\n",
    "import os\n",
    "\n",
    "# Directory paths\n",
    "json_directory = './CleanedJson/'\n",
    "excel_directory = './CleanedExcelfiles/'\n",
    "\n",
    "# List of table names (corresponding to JSON files)\n",
    "table_names_to_convert = ['_2000', '_2001', '_2002', '_2003', '_2004', '_2005', '_2006', '_2007', '_2008', '_2009', '_2010', '_2011', '_2012', '_2013', '_2014', '_2015', '_2016']\n",
    "\n",
    "# Create the output directory if it doesn't exist\n",
    "if not os.path.exists(excel_directory):\n",
    "    os.makedirs(excel_directory)\n",
    "\n",
    "# Convert each JSON file to Excel\n",
    "for table_name in table_names_to_convert:\n",
    "    json_file_path = os.path.join(json_directory, f'{table_name}.json')\n",
    "    excel_file_path = os.path.join(excel_directory, f'{table_name}.xlsx')\n",
    "\n",
    "    try:\n",
    "        # Read JSON file into a pandas DataFrame\n",
    "        df = pd.read_json(json_file_path)\n",
    "\n",
    "        # Write DataFrame to Excel file\n",
    "        df.to_excel(excel_file_path, index=False)\n",
    "\n",
    "        print(f'Successfully converted {table_name}.json to {table_name}.xlsx')\n",
    "    except Exception as e:\n",
    "        print(f'Error converting {table_name}.json to Excel: {e}')\n"
   ]
  }
 ],
 "metadata": {
  "kernelspec": {
   "display_name": "Python 3",
   "language": "python",
   "name": "python3"
  },
  "language_info": {
   "codemirror_mode": {
    "name": "ipython",
    "version": 3
   },
   "file_extension": ".py",
   "mimetype": "text/x-python",
   "name": "python",
   "nbconvert_exporter": "python",
   "pygments_lexer": "ipython3",
   "version": "3.11.2"
  }
 },
 "nbformat": 4,
 "nbformat_minor": 2
}
