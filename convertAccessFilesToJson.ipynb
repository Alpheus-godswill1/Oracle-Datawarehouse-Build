{
 "cells": [
  {
   "cell_type": "code",
   "execution_count": 1,
   "metadata": {},
   "outputs": [
    {
     "name": "stderr",
     "output_type": "stream",
     "text": [
      "C:\\Users\\HP\\AppData\\Local\\Temp\\ipykernel_21336\\481251586.py:33: UserWarning: pandas only supports SQLAlchemy connectable (engine/connection) or database string URI or sqlite3 DBAPI2 connection. Other DBAPI2 objects are not tested. Please consider using SQLAlchemy.\n",
      "  df = pd.read_sql(query, conn)\n",
      "C:\\Users\\HP\\AppData\\Local\\Temp\\ipykernel_21336\\481251586.py:33: UserWarning: pandas only supports SQLAlchemy connectable (engine/connection) or database string URI or sqlite3 DBAPI2 connection. Other DBAPI2 objects are not tested. Please consider using SQLAlchemy.\n",
      "  df = pd.read_sql(query, conn)\n",
      "C:\\Users\\HP\\AppData\\Local\\Temp\\ipykernel_21336\\481251586.py:33: UserWarning: pandas only supports SQLAlchemy connectable (engine/connection) or database string URI or sqlite3 DBAPI2 connection. Other DBAPI2 objects are not tested. Please consider using SQLAlchemy.\n",
      "  df = pd.read_sql(query, conn)\n",
      "C:\\Users\\HP\\AppData\\Local\\Temp\\ipykernel_21336\\481251586.py:33: UserWarning: pandas only supports SQLAlchemy connectable (engine/connection) or database string URI or sqlite3 DBAPI2 connection. Other DBAPI2 objects are not tested. Please consider using SQLAlchemy.\n",
      "  df = pd.read_sql(query, conn)\n",
      "C:\\Users\\HP\\AppData\\Local\\Temp\\ipykernel_21336\\481251586.py:33: UserWarning: pandas only supports SQLAlchemy connectable (engine/connection) or database string URI or sqlite3 DBAPI2 connection. Other DBAPI2 objects are not tested. Please consider using SQLAlchemy.\n",
      "  df = pd.read_sql(query, conn)\n",
      "C:\\Users\\HP\\AppData\\Local\\Temp\\ipykernel_21336\\481251586.py:33: UserWarning: pandas only supports SQLAlchemy connectable (engine/connection) or database string URI or sqlite3 DBAPI2 connection. Other DBAPI2 objects are not tested. Please consider using SQLAlchemy.\n",
      "  df = pd.read_sql(query, conn)\n",
      "C:\\Users\\HP\\AppData\\Local\\Temp\\ipykernel_21336\\481251586.py:33: UserWarning: pandas only supports SQLAlchemy connectable (engine/connection) or database string URI or sqlite3 DBAPI2 connection. Other DBAPI2 objects are not tested. Please consider using SQLAlchemy.\n",
      "  df = pd.read_sql(query, conn)\n",
      "C:\\Users\\HP\\AppData\\Local\\Temp\\ipykernel_21336\\481251586.py:33: UserWarning: pandas only supports SQLAlchemy connectable (engine/connection) or database string URI or sqlite3 DBAPI2 connection. Other DBAPI2 objects are not tested. Please consider using SQLAlchemy.\n",
      "  df = pd.read_sql(query, conn)\n",
      "C:\\Users\\HP\\AppData\\Local\\Temp\\ipykernel_21336\\481251586.py:33: UserWarning: pandas only supports SQLAlchemy connectable (engine/connection) or database string URI or sqlite3 DBAPI2 connection. Other DBAPI2 objects are not tested. Please consider using SQLAlchemy.\n",
      "  df = pd.read_sql(query, conn)\n",
      "C:\\Users\\HP\\AppData\\Local\\Temp\\ipykernel_21336\\481251586.py:33: UserWarning: pandas only supports SQLAlchemy connectable (engine/connection) or database string URI or sqlite3 DBAPI2 connection. Other DBAPI2 objects are not tested. Please consider using SQLAlchemy.\n",
      "  df = pd.read_sql(query, conn)\n",
      "C:\\Users\\HP\\AppData\\Local\\Temp\\ipykernel_21336\\481251586.py:33: UserWarning: pandas only supports SQLAlchemy connectable (engine/connection) or database string URI or sqlite3 DBAPI2 connection. Other DBAPI2 objects are not tested. Please consider using SQLAlchemy.\n",
      "  df = pd.read_sql(query, conn)\n",
      "C:\\Users\\HP\\AppData\\Local\\Temp\\ipykernel_21336\\481251586.py:33: UserWarning: pandas only supports SQLAlchemy connectable (engine/connection) or database string URI or sqlite3 DBAPI2 connection. Other DBAPI2 objects are not tested. Please consider using SQLAlchemy.\n",
      "  df = pd.read_sql(query, conn)\n",
      "C:\\Users\\HP\\AppData\\Local\\Temp\\ipykernel_21336\\481251586.py:33: UserWarning: pandas only supports SQLAlchemy connectable (engine/connection) or database string URI or sqlite3 DBAPI2 connection. Other DBAPI2 objects are not tested. Please consider using SQLAlchemy.\n",
      "  df = pd.read_sql(query, conn)\n",
      "C:\\Users\\HP\\AppData\\Local\\Temp\\ipykernel_21336\\481251586.py:33: UserWarning: pandas only supports SQLAlchemy connectable (engine/connection) or database string URI or sqlite3 DBAPI2 connection. Other DBAPI2 objects are not tested. Please consider using SQLAlchemy.\n",
      "  df = pd.read_sql(query, conn)\n",
      "C:\\Users\\HP\\AppData\\Local\\Temp\\ipykernel_21336\\481251586.py:33: UserWarning: pandas only supports SQLAlchemy connectable (engine/connection) or database string URI or sqlite3 DBAPI2 connection. Other DBAPI2 objects are not tested. Please consider using SQLAlchemy.\n",
      "  df = pd.read_sql(query, conn)\n",
      "C:\\Users\\HP\\AppData\\Local\\Temp\\ipykernel_21336\\481251586.py:33: UserWarning: pandas only supports SQLAlchemy connectable (engine/connection) or database string URI or sqlite3 DBAPI2 connection. Other DBAPI2 objects are not tested. Please consider using SQLAlchemy.\n",
      "  df = pd.read_sql(query, conn)\n",
      "C:\\Users\\HP\\AppData\\Local\\Temp\\ipykernel_21336\\481251586.py:33: UserWarning: pandas only supports SQLAlchemy connectable (engine/connection) or database string URI or sqlite3 DBAPI2 connection. Other DBAPI2 objects are not tested. Please consider using SQLAlchemy.\n",
      "  df = pd.read_sql(query, conn)\n"
     ]
    }
   ],
   "source": [
    "import os\n",
    "import pandas as pd\n",
    "import pyodbc\n",
    "import json\n",
    "\n",
    "# Connect to the Access database\n",
    "access_db_file = r'C:\\BridgetDatawarehouseCoursework\\WaterQuality1.accdb'\n",
    "conn_str = f'DRIVER={{Microsoft Access Driver (*.mdb, *.accdb)}};DBQ={access_db_file};'\n",
    "conn = pyodbc.connect(conn_str)\n",
    "\n",
    "# Specify the directory to store JSON files\n",
    "json_directory = 'AccessTablesToJsonFiles/'\n",
    "\n",
    "# Create the directory if it doesn't exist\n",
    "os.makedirs(json_directory, exist_ok=True)\n",
    "\n",
    "# Function to convert DataFrame to JSON and save to file\n",
    "def dataframe_to_json(df, json_file):\n",
    "    # Convert DataFrame to a list of dictionaries\n",
    "    data_list = df.to_dict(orient='records')\n",
    "    \n",
    "    # Write the list to a JSON file\n",
    "    with open(json_file, 'w') as file:\n",
    "        json.dump(data_list, file, indent=4)\n",
    "\n",
    "# List of table names to convert to JSON\n",
    "table_names_to_convert = ['_2000', '_2001', '_2002', '_2003', '_2004', '_2005', '_2006', '_2007', '_2008', '_2009', '_2010', '_2011', '_2012', '_2013', '_2014', '_2015', '_2016']\n",
    "\n",
    "# Loop through each table, convert to JSON, and save to the specified directory\n",
    "for table_name_to_convert in table_names_to_convert:\n",
    "    # Read data from the specified table into a DataFrame\n",
    "    query = f\"SELECT * FROM {table_name_to_convert};\"\n",
    "    df = pd.read_sql(query, conn)\n",
    "\n",
    "    # Convert DataFrame to JSON and save to file\n",
    "    json_file = os.path.join(json_directory, f\"{table_name_to_convert}.json\")\n",
    "    dataframe_to_json(df, json_file)\n",
    "\n",
    "# Close the database connection\n",
    "conn.close()\n",
    "\n"
   ]
  }
 ],
 "metadata": {
  "kernelspec": {
   "display_name": "Python 3",
   "language": "python",
   "name": "python3"
  },
  "language_info": {
   "codemirror_mode": {
    "name": "ipython",
    "version": 3
   },
   "file_extension": ".py",
   "mimetype": "text/x-python",
   "name": "python",
   "nbconvert_exporter": "python",
   "pygments_lexer": "ipython3",
   "version": "3.11.2"
  }
 },
 "nbformat": 4,
 "nbformat_minor": 2
}
