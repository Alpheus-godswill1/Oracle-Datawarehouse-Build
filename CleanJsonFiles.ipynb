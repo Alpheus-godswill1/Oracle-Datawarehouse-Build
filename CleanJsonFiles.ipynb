{
 "cells": [
  {
   "cell_type": "code",
   "execution_count": 15,
   "metadata": {},
   "outputs": [],
   "source": [
    "import os\n",
    "import pandas as pd\n",
    "import json\n",
    "\n",
    "# Specify the directory where original JSON files are stored\n",
    "original_json_directory = 'AccessTablesToJsonFiles/'\n",
    "\n",
    "# Specify the directory to store cleaned JSON files\n",
    "cleaned_json_directory = 'CleanedJson/'\n",
    "\n",
    "# Create the directory if it doesn't exist\n",
    "os.makedirs(cleaned_json_directory, exist_ok=True)\n",
    "\n",
    "# Function to clean JSON file and save to a new file\n",
    "def clean_and_save_json(original_json_file, cleaned_json_file):\n",
    "    # Read original JSON file\n",
    "    with open(original_json_file, 'r') as file:\n",
    "        data = json.load(file)\n",
    "\n",
    "    # Loop through each record (dictionary) in the list\n",
    "    for record in data:\n",
    "        # Loop through each key-value pair in the record\n",
    "        for key, value in record.items():\n",
    "            # If the value is 'null', replace it with \"NaN\"\n",
    "            if value is None or value == '<':\n",
    "                record[key] = \"None\"  # Use \"NaN\" as a string\n",
    "\n",
    "    # Write the cleaned data to a new JSON file\n",
    "    with open(cleaned_json_file, 'w') as file:\n",
    "        json.dump(data, file, indent=4)\n",
    "\n",
    "# List of table names to convert to JSON\n",
    "table_names_to_convert = ['_2000', '_2001', '_2002', '_2003', '_2004', '_2005', '_2006', '_2007', '_2008', '_2009', '_2010', '_2011', '_2012', '_2013', '_2014', '_2015', '_2016']\n",
    "\n",
    "# Loop through each table, clean JSON, and save to the cleaned JSON directory\n",
    "for table_name_to_convert in table_names_to_convert:\n",
    "    # Build the paths for the original and cleaned JSON files\n",
    "    original_json_path = os.path.join(original_json_directory, f\"{table_name_to_convert}.json\")\n",
    "    cleaned_json_path = os.path.join(cleaned_json_directory, f\"{table_name_to_convert}.json\")\n",
    "\n",
    "    # Clean and save the JSON file\n",
    "    clean_and_save_json(original_json_path, cleaned_json_path)\n"
   ]
  }
 ],
 "metadata": {
  "kernelspec": {
   "display_name": "Python 3",
   "language": "python",
   "name": "python3"
  },
  "language_info": {
   "codemirror_mode": {
    "name": "ipython",
    "version": 3
   },
   "file_extension": ".py",
   "mimetype": "text/x-python",
   "name": "python",
   "nbconvert_exporter": "python",
   "pygments_lexer": "ipython3",
   "version": "3.11.2"
  }
 },
 "nbformat": 4,
 "nbformat_minor": 2
}
